{
 "cells": [
  {
   "cell_type": "markdown",
   "metadata": {},
   "source": [
    "#Genetic Algorithms\n",
    "---\n",
    "_run by Noah Gundotra_\n",
    "\n",
    "**code from [this website](http://lethain.com/genetic-algorithms-cool-name-damn-simple/)**\n",
    "\n",
    "Goal:\n",
    "> take n numbers that when summed equal S\n",
    "\n",
    "> evolve initial numbers using a GA"
   ]
  },
  {
   "cell_type": "code",
   "execution_count": 9,
   "metadata": {
    "collapsed": true
   },
   "outputs": [],
   "source": [
    "from random import randint\n",
    "from operator import add"
   ]
  },
  {
   "cell_type": "code",
   "execution_count": 1,
   "metadata": {
    "collapsed": false
   },
   "outputs": [
    {
     "data": {
      "text/plain": [
       "[181, 45, 67, 189]"
      ]
     },
     "execution_count": 1,
     "metadata": {},
     "output_type": "execute_result"
    }
   ],
   "source": [
    "def individual(length, min, max):\n",
    "    'Create a member of the population'\n",
    "    return [ randint(min,max) for x in range(1,length)]"
   ]
  },
  {
   "cell_type": "code",
   "execution_count": 4,
   "metadata": {
    "collapsed": false
   },
   "outputs": [
    {
     "data": {
      "text/plain": [
       "[196, 188, 27, 192]"
      ]
     },
     "execution_count": 4,
     "metadata": {},
     "output_type": "execute_result"
    }
   ],
   "source": [
    "individual(5,0,200)"
   ]
  },
  {
   "cell_type": "code",
   "execution_count": 7,
   "metadata": {
    "collapsed": true
   },
   "outputs": [],
   "source": [
    "def population(count, length, min, max):\n",
    "    \"\"\"\n",
    "    Create a number of individuals (i.e. a population)\n",
    "    \n",
    "    count --> number of individuals in population\n",
    "    length --> number of values per individuals (number of numbers)\n",
    "    min --> min value of individual\n",
    "    max --> max value of individual\n",
    "    \"\"\"\n",
    "    return [individual(length,min,max) for x in range(1,count)]"
   ]
  },
  {
   "cell_type": "code",
   "execution_count": 8,
   "metadata": {
    "collapsed": false
   },
   "outputs": [
    {
     "data": {
      "text/plain": [
       "[[192, 79, 171, 102],\n",
       " [93, 154, 135, 53],\n",
       " [116, 197, 165, 173],\n",
       " [68, 180, 47, 193]]"
      ]
     },
     "execution_count": 8,
     "metadata": {},
     "output_type": "execute_result"
    }
   ],
   "source": [
    "population(5,5,0,200)"
   ]
  },
  {
   "cell_type": "code",
   "execution_count": 12,
   "metadata": {
    "collapsed": true
   },
   "outputs": [],
   "source": [
    "def fitness(individual, target):\n",
    "    \"\"\"\n",
    "    Determine fitness of individual (lower is better)\n",
    "    \n",
    "    individual - individual being evaluated\n",
    "    target - sum of the numbers aimed for\n",
    "    \"\"\"\n",
    "    sum = reduce(add, individual,0)\n",
    "    return abs(target-sum)"
   ]
  },
  {
   "cell_type": "markdown",
   "metadata": {},
   "source": [
    "***Important Note***\n",
    "sum is based on reduce\n",
    "\n",
    "**reduce:**\n",
    "> built-in Python function meant to return single value from an iterable\n",
    "\n",
    "> reduce(function, iterable, initializer=none)\n",
    "\n",
    ">> ex reduce(lambda x, y: x+y, [1,2,3,4,5]\n",
    "\n",
    ">> returns ((((1+2)+3)+4)+5)\n",
    "\n",
    "\n",
    "####[documentation](https://docs.python.org/2/library/functions.html?highlight=reduce#reduce)"
   ]
  },
  {
   "cell_type": "code",
   "execution_count": 18,
   "metadata": {
    "collapsed": false
   },
   "outputs": [
    {
     "name": "stdout",
     "output_type": "stream",
     "text": [
      "1000247241\n",
      "1000247241\n"
     ]
    }
   ],
   "source": [
    "x = individual(10000000,0,200)\n",
    "\n",
    "def fitness2(individual, target):\n",
    "    \"Proof of concept of reduce function / Same function as fitness\"\n",
    "    sumIndividual = reduce(lambda x, y: x+y, individual)\n",
    "    return abs(target-sumIndividual)\n"
   ]
  },
  {
   "cell_type": "code",
   "execution_count": null,
   "metadata": {
    "collapsed": true
   },
   "outputs": [],
   "source": []
  }
 ],
 "metadata": {
  "kernelspec": {
   "display_name": "Python 2",
   "language": "python",
   "name": "python2"
  },
  "language_info": {
   "codemirror_mode": {
    "name": "ipython",
    "version": 2
   },
   "file_extension": ".py",
   "mimetype": "text/x-python",
   "name": "python",
   "nbconvert_exporter": "python",
   "pygments_lexer": "ipython2",
   "version": "2.7.10"
  }
 },
 "nbformat": 4,
 "nbformat_minor": 0
}
