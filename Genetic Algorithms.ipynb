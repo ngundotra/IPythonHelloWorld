{
 "cells": [
  {
   "cell_type": "markdown",
   "metadata": {},
   "source": [
    "Genetic Algorithms\n",
    "---\n",
    "_run by Noah Gundotra_\n",
    "\n",
    "**code from [this website](http://lethain.com/genetic-algorithms-cool-name-damn-simple/)**\n",
    "\n",
    "Goal:\n",
    "> take n numbers that when summed equal S\n",
    "\n",
    "> evolve initial numbers using a GA"
   ]
  },
  {
   "cell_type": "code",
   "execution_count": 38,
   "metadata": {
    "collapsed": true
   },
   "outputs": [],
   "source": [
    "from random import random, randint\n",
    "from operator import add"
   ]
  },
  {
   "cell_type": "code",
   "execution_count": 3,
   "metadata": {
    "collapsed": false
   },
   "outputs": [],
   "source": [
    "def individual(length, min, max):\n",
    "    'Create a member of the population'\n",
    "    return [ randint(min,max) for x in range(1,length)]"
   ]
  },
  {
   "cell_type": "code",
   "execution_count": 4,
   "metadata": {
    "collapsed": false
   },
   "outputs": [
    {
     "data": {
      "text/plain": [
       "[186, 141, 65, 83]"
      ]
     },
     "execution_count": 4,
     "metadata": {},
     "output_type": "execute_result"
    }
   ],
   "source": [
    "individual(5,0,200)"
   ]
  },
  {
   "cell_type": "code",
   "execution_count": 5,
   "metadata": {
    "collapsed": true
   },
   "outputs": [],
   "source": [
    "def population(count, length, min, max):\n",
    "    \"\"\"\n",
    "    Create a number of individuals (i.e. a population)\n",
    "    \n",
    "    count --> number of individuals in population\n",
    "    length --> number of values per individuals (number of numbers)\n",
    "    min --> min value of individual\n",
    "    max --> max value of individual\n",
    "    \"\"\"\n",
    "    return [individual(length,min,max) for x in range(1,count)]"
   ]
  },
  {
   "cell_type": "code",
   "execution_count": 6,
   "metadata": {
    "collapsed": false
   },
   "outputs": [
    {
     "data": {
      "text/plain": [
       "[[58, 55, 185, 72],\n",
       " [123, 187, 144, 94],\n",
       " [118, 197, 133, 69],\n",
       " [196, 167, 136, 124]]"
      ]
     },
     "execution_count": 6,
     "metadata": {},
     "output_type": "execute_result"
    }
   ],
   "source": [
    "population(5,5,0,200)"
   ]
  },
  {
   "cell_type": "code",
   "execution_count": 7,
   "metadata": {
    "collapsed": true
   },
   "outputs": [],
   "source": [
    "def fitness(individual, target):\n",
    "    \"\"\"\n",
    "    Determine fitness of individual (lower is better)\n",
    "    \n",
    "    individual - individual being evaluated\n",
    "    target - sum of the numbers aimed for\n",
    "    \"\"\"\n",
    "    sum = reduce(add, individual,0)\n",
    "    return abs(target-sum)"
   ]
  },
  {
   "cell_type": "markdown",
   "metadata": {},
   "source": [
    "**Important Note**: \n",
    "sum is based on reduce\n",
    "\n",
    "**reduce:**\n",
    "> built-in Python function meant to return single value from an iterable\n",
    "\n",
    "> reduce(function, iterable, initializer=none)\n",
    "\n",
    ">> reduce(lambda x, y: x+y, [1,2,3,4,5])\n",
    "\n",
    ">> returns ((((1+2)+3)+4)+5)\n",
    "\n",
    "\n",
    "[documentation](https://docs.python.org/2/library/functions.html?highlight=reduce#reduce)"
   ]
  },
  {
   "cell_type": "code",
   "execution_count": 13,
   "metadata": {
    "collapsed": false
   },
   "outputs": [],
   "source": [
    "def fitnessTest(individual, target):\n",
    "    \"Proof of concept of reduce function / Same function as fitness\"\n",
    "    sumIndividual = reduce(lambda x, y: x+y, individual)\n",
    "    return abs(target-sumIndividual)\n"
   ]
  },
  {
   "cell_type": "code",
   "execution_count": 10,
   "metadata": {
    "collapsed": false
   },
   "outputs": [],
   "source": [
    "def grade(pop, target):\n",
    "    'Find population\\'s average fitness'\n",
    "    summed = reduce(add, (fitness(x, target) for x in pop), 0)\n",
    "    return summed / (len(pop) * 1.0)"
   ]
  },
  {
   "cell_type": "code",
   "execution_count": 27,
   "metadata": {
    "collapsed": true
   },
   "outputs": [],
   "source": [
    "x = population(3, 5, 0, 100)\n",
    "target = 200"
   ]
  },
  {
   "cell_type": "code",
   "execution_count": 28,
   "metadata": {
    "collapsed": false
   },
   "outputs": [
    {
     "data": {
      "text/plain": [
       "28.0"
      ]
     },
     "execution_count": 28,
     "metadata": {},
     "output_type": "execute_result"
    }
   ],
   "source": [
    "grade(x, target)"
   ]
  },
  {
   "cell_type": "code",
   "execution_count": 39,
   "metadata": {
    "collapsed": false
   },
   "outputs": [],
   "source": [
    "def evolve(pop, target, retain=0.2, random_select=0.05, mutate=0.01):\n",
    "    graded = [ (fitness(x, target), x) for x in pop] \n",
    "    # creating X by 2 array of (fitness level , individual)\n",
    "    graded = [ x[1] for x in sorted(graded)] \n",
    "    # taking the individual (2nd element) of sorted entries, \n",
    "    # by best fitness --> worst, which is why the fitness level is first in (x,y) \n",
    "    retain_length = int(len(graded) * retain)\n",
    "    # retaint_length = number of individuals being retained from 1 generation to next\n",
    "    parents = graded[:retain_length]\n",
    "    \n",
    "    # randomly add old individuals to promote diversity (avoid local optima)\n",
    "    # this adds poor performing individuals to the mix\n",
    "    for individual in graded[retain_length:]:\n",
    "        if random_select > random():\n",
    "            parents.append(individual)\n",
    "    \n",
    "    # mutate some individuals\n",
    "    for individual in parents:\n",
    "        if mutate > random():\n",
    "            pos_to_mutate = randint(0,len(individual)-1)\n",
    "            # this mutation is not ideal bc \n",
    "            # function restricts values bc\n",
    "            # it is unaware of min & max values used to gen individuals\n",
    "            individual[pos_to_mutate] = randint(min(individual), max(individual))\n",
    "            \n",
    "    # cross over parents to create children\n",
    "    parents_length = len(parents)\n",
    "    desired_length = len(pop) - parents_length\n",
    "    children = []\n",
    "    while len(children) < desired_length:\n",
    "        male = randint(0, parents_length-1)\n",
    "        female = randint(0,parents_length-1)\n",
    "        if male != female:\n",
    "            male = parents[male]\n",
    "            female = parents[female]\n",
    "            half = len(male)/2\n",
    "            child = male[:half] + female[half:]\n",
    "            children.append(child)\n",
    "            \n",
    "    parents.extend(children)\n",
    "    # parents is a list containing lists\n",
    "    # if .append(children) was used, the children list would be \n",
    "    # added as an entire list rather than the child lists themselves\n",
    "    # .extend(children) is an iterable that adds the child lists to \n",
    "    # the parent list\n",
    "    return parents"
   ]
  },
  {
   "cell_type": "code",
   "execution_count": 41,
   "metadata": {
    "collapsed": false
   },
   "outputs": [
    {
     "name": "stdout",
     "output_type": "stream",
     "text": [
      "180.97979798\n",
      "131.131313131\n",
      "72.1111111111\n",
      "44.1717171717\n",
      "24.8686868687\n",
      "19.8181818182\n",
      "15.4141414141\n",
      "14.0\n",
      "13.9696969697\n",
      "13.8383838384\n",
      "13.3333333333\n",
      "13.1818181818\n",
      "13.0505050505\n",
      "13.202020202\n",
      "13.0\n",
      "13.0\n",
      "13.0\n",
      "13.0\n",
      "13.0\n",
      "13.0\n",
      "13.0\n",
      "13.1212121212\n",
      "13.0\n",
      "13.0\n",
      "12.1111111111\n",
      "9.07070707071\n",
      "2.87878787879\n",
      "1.21212121212\n",
      "0.040404040404\n",
      "0.0\n",
      "0.0\n",
      "0.0\n",
      "0.40404040404\n",
      "0.323232323232\n",
      "0.565656565657\n",
      "0.0\n",
      "0.121212121212\n",
      "0.0\n",
      "0.121212121212\n",
      "0.121212121212\n",
      "0.0\n",
      "0.0\n",
      "0.0\n",
      "0.0\n",
      "0.0\n",
      "0.0\n",
      "0.0\n",
      "0.0\n",
      "0.0\n",
      "0.0\n",
      "0.363636363636\n",
      "0.0\n",
      "0.0\n",
      "0.252525252525\n",
      "0.353535353535\n",
      "0.0\n",
      "0.0\n",
      "0.242424242424\n",
      "0.0\n",
      "0.0\n",
      "0.0\n",
      "0.0\n",
      "0.0\n",
      "0.0\n",
      "0.0\n",
      "0.0\n",
      "0.0\n",
      "0.181818181818\n",
      "0.10101010101\n",
      "0.0\n",
      "0.0\n",
      "0.0\n",
      "0.0\n",
      "0.0\n",
      "0.121212121212\n",
      "0.0\n",
      "0.0\n",
      "0.0\n",
      "0.0\n",
      "0.0\n",
      "0.0\n",
      "0.0\n",
      "0.0\n",
      "0.0\n",
      "0.0\n",
      "0.0\n",
      "0.0\n",
      "0.0\n",
      "0.0\n",
      "0.0\n",
      "0.0\n",
      "0.0\n",
      "0.030303030303\n",
      "0.0\n",
      "0.0\n",
      "0.0\n",
      "0.0\n",
      "0.272727272727\n",
      "0.0\n",
      "0.0\n",
      "0.0\n"
     ]
    }
   ],
   "source": [
    "target = 371\n",
    "p_count = 100\n",
    "i_length = 5\n",
    "i_min = 0\n",
    "i_max = 100\n",
    "p = population(p_count, i_length, i_min, i_max)\n",
    "fitness_history = [grade(p,target)]\n",
    "for i in xrange(100):\n",
    "    p = evolve(p,target)\n",
    "    fitness_history.append(grade(p,target))\n",
    "    \n",
    "for datum in fitness_history:\n",
    "    print datum"
   ]
  }
 ],
 "metadata": {
  "kernelspec": {
   "display_name": "Python 2",
   "language": "python",
   "name": "python2"
  },
  "language_info": {
   "codemirror_mode": {
    "name": "ipython",
    "version": 2
   },
   "file_extension": ".py",
   "mimetype": "text/x-python",
   "name": "python",
   "nbconvert_exporter": "python",
   "pygments_lexer": "ipython2",
   "version": "2.7.10"
  }
 },
 "nbformat": 4,
 "nbformat_minor": 0
}
