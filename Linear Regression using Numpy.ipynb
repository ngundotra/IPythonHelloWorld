{
 "cells": [
  {
   "cell_type": "markdown",
   "metadata": {},
   "source": [
    "# Linear Regression in Python using Numpy\n",
    "---\n",
    "\n",
    "### Exploring the use of Numpy matrices & Scikit learn"
   ]
  },
  {
   "cell_type": "code",
   "execution_count": 1,
   "metadata": {
    "collapsed": true
   },
   "outputs": [],
   "source": [
    "import numpy as np"
   ]
  },
  {
   "cell_type": "code",
   "execution_count": 12,
   "metadata": {
    "collapsed": false
   },
   "outputs": [
    {
     "name": "stdout",
     "output_type": "stream",
     "text": [
      "[[1 2]\n",
      " [3 4]]\n",
      "[[1 3]\n",
      " [2 4]]\n",
      "[[ 5]\n",
      " [11]]\n"
     ]
    }
   ],
   "source": [
    "a = np.matrix('1 2; 3 4')\n",
    "print a\n",
    "print a.T # transpose of matrix a\n",
    "\n",
    "b = np.matrix('1;2')\n",
    "print a*b"
   ]
  },
  {
   "cell_type": "code",
   "execution_count": 24,
   "metadata": {
    "collapsed": false
   },
   "outputs": [],
   "source": [
    "def gradientDescent(X, y, theta, alpha, num_iters):\n",
    "    dx = ((X*theta-y).T * X).T\n",
    "    theta = theta - (alpha * dx)\n",
    "    return theta\n",
    "\n",
    "def computeCost(X,y,theta):\n",
    "    J = (X*theta-y).T * (X*theta-y) / (2*m)\n",
    "    return J\n",
    "\n",
    "def featureNormalize(X):\n",
    "    X_norm = X.copy;\n",
    "    mu = X.std(1)\n",
    "    sigma = X.mean(1)\n",
    "    \n",
    "    for i in X.shape:\n",
    "        X_norm[:,i] = (X[:,i]-mu[i])/sigma[i]\n",
    "        \n",
    "    return X_norm, mu, sigma"
   ]
  },
  {
   "cell_type": "code",
   "execution_count": null,
   "metadata": {
    "collapsed": true
   },
   "outputs": [],
   "source": []
  }
 ],
 "metadata": {
  "kernelspec": {
   "display_name": "Python 2",
   "language": "python",
   "name": "python2"
  },
  "language_info": {
   "codemirror_mode": {
    "name": "ipython",
    "version": 2
   },
   "file_extension": ".py",
   "mimetype": "text/x-python",
   "name": "python",
   "nbconvert_exporter": "python",
   "pygments_lexer": "ipython2",
   "version": "2.7.10"
  }
 },
 "nbformat": 4,
 "nbformat_minor": 0
}
