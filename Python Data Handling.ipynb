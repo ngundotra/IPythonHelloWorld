{
 "cells": [
  {
   "cell_type": "markdown",
   "metadata": {},
   "source": [
    "## Python Data Handling\n",
    "----\n",
    "\n",
    "by Noah Gundotra (24 October 2015)"
   ]
  },
  {
   "cell_type": "markdown",
   "metadata": {},
   "source": [
    "### Part I: CSV Tutorial\n",
    "\n",
    "Handling CSVs using csv library in python\n",
    "\n",
    "[Tutorial Here](https://newcircle.com/s/post/1572/python_for_beginners_reading_and_manipulating_csv_files)"
   ]
  },
  {
   "cell_type": "code",
   "execution_count": 17,
   "metadata": {
    "collapsed": false
   },
   "outputs": [],
   "source": [
    "import csv\n",
    "\n",
    "def extractEmail(filename):\n",
    "    f = open(filename)\n",
    "    csv_f = csv.reader(f)\n",
    "    emails = []\n",
    "    for row in csv_f:\n",
    "        emails.append(row[2])\n",
    "    return emails"
   ]
  },
  {
   "cell_type": "code",
   "execution_count": 14,
   "metadata": {
    "collapsed": false
   },
   "outputs": [
    {
     "name": "stdout",
     "output_type": "stream",
     "text": [
      "set(['hunter.simmons@lycos.com', 'alyssa.white@aol.com', 'jasmine.murray@aol.com', 'lucas.roberts@yahoo.com', 'kayden.stephens@hotmail.com', 'noah.mills@gmail.com', 'jasmine.fisher@lycos.com', 'ryder.jackson@yahoo.com', 'kaylee.perry@gmail.com', 'noah.peterson@hotmail.com', 'zoe.parker@aol.com', 'jordan.knight@gmail.com', 'liam.rice@lycos.com', 'liam.mills@yahoo.com', 'skylar.thomas@gmail.com', 'khloe.lopez@aol.com', 'alexander.stone@gmail.com', 'madelyn.dixon@gmail.com', 'ava.hawkins@aol.com'])\n"
     ]
    }
   ],
   "source": [
    "emails1 = extractEmail('attendees1.csv')\n",
    "emails2 = extractEmail('attendees2.csv')\n",
    "# Sets store unique values, unordered, allow quick comparison\n",
    "emails1 = set(emails1)\n",
    "emails2 = set(emails2) \n",
    "\n",
    "# Second year attendees not present at first get-together\n",
    "new_friends = emails2.difference(emails1)\n",
    "print new_friends"
   ]
  },
  {
   "cell_type": "code",
   "execution_count": 36,
   "metadata": {
    "collapsed": false
   },
   "outputs": [
    {
     "name": "stdout",
     "output_type": "stream",
     "text": [
      "weathda01 10\n",
      "beavabl01 1\n",
      "nastuph01 1\n",
      "gajkost01 3\n",
      "brownto04 8\n",
      "brownto05 3\n",
      "bakenda01 0\n",
      "brownto01 1\n",
      "skrmema01 7\n",
      "bannifl01 30\n",
      "lemasde01 13\n",
      "perryga01 42\n",
      "madriwa01 5\n",
      "mcelrch01 25\n",
      "kraemjo01 16\n"
     ]
    }
   ],
   "source": [
    "f = open('Pitching.csv')\n",
    "csv_f = csv.reader(f)\n",
    "\n",
    "pitchers = {}\n",
    "for row in csv_f:\n",
    "    pitchers[row[0]] = row[-13]\n",
    "\n",
    "for x in xrange(15):\n",
    "    print pitchers.keys()[x], pitchers.values()[x]"
   ]
  },
  {
   "cell_type": "code",
   "execution_count": null,
   "metadata": {
    "collapsed": true
   },
   "outputs": [],
   "source": []
  }
 ],
 "metadata": {
  "kernelspec": {
   "display_name": "Python 2",
   "language": "python",
   "name": "python2"
  },
  "language_info": {
   "codemirror_mode": {
    "name": "ipython",
    "version": 2
   },
   "file_extension": ".py",
   "mimetype": "text/x-python",
   "name": "python",
   "nbconvert_exporter": "python",
   "pygments_lexer": "ipython2",
   "version": "2.7.10"
  }
 },
 "nbformat": 4,
 "nbformat_minor": 0
}
